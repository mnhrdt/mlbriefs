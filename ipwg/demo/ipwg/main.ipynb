{
 "cells": [
  {
   "cell_type": "markdown",
   "id": "f199e363",
   "metadata": {},
   "source": [
    "# Image processing with graphs"
   ]
  },
  {
   "cell_type": "markdown",
   "id": "26dabd78",
   "metadata": {},
   "source": [
    "A graph is a sparse matrix.  Thus, libraries for doing linear algebra are the\n",
    "appropriate tool to deal with graphs.  In this notebook we show how to\n",
    "implement some common operations in image processing using a graph formalism.\n",
    "In this formalism, images are functions that assign a number to each vertex\n",
    "of a grid graph.  Here the graph will always be a grid, but all the\n",
    "operations can be defined over an arbitrary graph.\n",
    "\n",
    "This version of the notebook uses python/numpy.  There are other equivalent\n",
    "versions with octave and julia."
   ]
  },
  {
   "cell_type": "markdown",
   "id": "8759faf6",
   "metadata": {},
   "source": [
    "## Construction of the grid graph"
   ]
  },
  {
   "cell_type": "markdown",
   "id": "57bcc736",
   "metadata": {},
   "source": [
    "An image of size $W\\times H$ has $n=WH$ pixels.  These are the vertices\n",
    "of our grid graph.  The edges connect the—up to four—neighbors of each pixel.\n",
    "Thus there are $H$ rows of $W-1$ horizontal edges each, and $W$ columns of\n",
    "$H-1$ vertical edges, for a total of $m$ edges"
   ]
  },
  {
   "cell_type": "markdown",
   "id": "1e91433d",
   "metadata": {},
   "source": [
    "$$m=H(W-1)+W(H-1)$$"
   ]
  },
  {
   "cell_type": "markdown",
   "id": "4371ecc8",
   "metadata": {},
   "source": [
    "The following function builds the signed *incidence matrix* of a $W\\times H$\n",
    "grid graph.  It is a matrix of $n$ columns and $m$ rows."
   ]
  },
  {
   "cell_type": "code",
   "execution_count": null,
   "id": "83a015e5",
   "metadata": {
    "lines_to_next_cell": 1
   },
   "outputs": [],
   "source": [
    "def grid_incidence(h, w):\n",
    "\t\"\"\" Build the signed incidence matrix of a WxH grid graph \"\"\"\n",
    "\tfrom scipy.sparse import eye, kron, vstack\n",
    "\tx = eye(w-1, w, 1) - eye(w-1, w)             # path graph of length W\n",
    "\ty = eye(h-1, h, 1) - eye(h-1, h)             # path graph of length H\n",
    "\tBx = kron(eye(h), x)                         # H horizontal paths\n",
    "\tBy = kron(y, eye(w))                         # W vertical paths\n",
    "\tB = vstack([Bx, By])                         # union of all paths\n",
    "\treturn B"
   ]
  },
  {
   "cell_type": "markdown",
   "id": "baa36d65",
   "metadata": {},
   "source": [
    "A similar construction builds the *adjacency matrix*, which is square of size\n",
    "$n$."
   ]
  },
  {
   "cell_type": "code",
   "execution_count": null,
   "id": "c28f7993",
   "metadata": {
    "lines_to_next_cell": 1
   },
   "outputs": [],
   "source": [
    "def grid_adjacency(h, w):\n",
    "\t\"\"\" Build the adjacency matrix of a WxH grid graph \"\"\"\n",
    "\tfrom scipy.sparse import eye, kronsum\n",
    "\tx = eye(w, w, 1)                             # oriented path of length W\n",
    "\ty = eye(h, h, 1)                             # oriented path of length H\n",
    "\tG = kronsum(x, y)                            # graph product\n",
    "\tA = G + G.T                                  # symmetrization\n",
    "\treturn A"
   ]
  },
  {
   "cell_type": "markdown",
   "id": "8de6e8b2",
   "metadata": {},
   "source": [
    "We will also construct the *Laplacian matrix* of the graph, defined as\n",
    "$L=-B^\\top B$.  There are many algebraic relationships between the Laplacian,\n",
    "adjacency and incidence matrices.\n",
    "The matrices $A$ and $L$ are square, each row of these matrices\n",
    "corresponding to one pixel of the original image domain.  Since these\n",
    "matrices are circulant, we can represent them by their effect on an isolated\n",
    "pixel; this is called the *stencil* of the linear operator associated to the\n",
    "matrix (or the kernel of the corresponding convolution operator):"
   ]
  },
  {
   "cell_type": "markdown",
   "id": "756ea58f",
   "metadata": {},
   "source": [
    "$$\n",
    "\\mathrm{stencil}(A)=\n",
    "\\begin{array}{|c|c|c|}\\hline0&1&0\\\\\\hline1&0&1\\\\\\hline0&1&0\\\\\\hline\\end{array}\n",
    "\t\\qquad\n",
    "\t\\qquad\n",
    "\\mathrm{stencil}(L)=\n",
    "\\begin{array}{|c|c|c|}\\hline0&1&0\\\\\\hline1&\\!\\!\\!-4\\!\\!\\!&1\\\\\\hline0&1&0\\\\\\hline\\end{array}\n",
    "\t\\qquad\n",
    "\t\\qquad\n",
    "\\mathrm{stencil}(E)=\n",
    "\\begin{array}{|c|c|c|}\\hline0&1&0\\\\\\hline1&1&1\\\\\\hline0&1&0\\\\\\hline\\end{array}\n",
    "$$"
   ]
  },
  {
   "cell_type": "markdown",
   "id": "e0f6a0ae",
   "metadata": {},
   "source": [
    "We also define a few administrative functions to load and display\n",
    "images:"
   ]
  },
  {
   "cell_type": "code",
   "execution_count": null,
   "id": "488cee7a",
   "metadata": {
    "lines_to_next_cell": 1
   },
   "outputs": [],
   "source": [
    "def image_read(f):\n",
    "\t\"\"\" Read an image from filename \"f\" into a numpy array \"\"\"\n",
    "\timport iio\n",
    "\tx = iio.read(f).squeeze()\n",
    "\treturn x"
   ]
  },
  {
   "cell_type": "code",
   "execution_count": null,
   "id": "1b74c6af",
   "metadata": {
    "lines_to_next_cell": 1
   },
   "outputs": [],
   "source": [
    "def image_write(f, x):\n",
    "\t\"\"\" Write the numpy array \"x\" into an image file \"f\" \"\"\"\n",
    "\timport iio\n",
    "\tiio.write(f, x)\n",
    "\treturn"
   ]
  },
  {
   "cell_type": "code",
   "execution_count": null,
   "id": "49b5f68d",
   "metadata": {
    "lines_to_next_cell": 1
   },
   "outputs": [],
   "source": [
    "def image_display(f):\n",
    "\t\"\"\" Inline display the image from filename \"f\" into a numpy array \"\"\"\n",
    "\timport IPython.display\n",
    "\ts = f\"<div><p><img src=\\\"{f}\\\" /> {f}</p></div>\"\n",
    "\tIPython.display.display(IPython.display.HTML(s))\n",
    "\treturn"
   ]
  },
  {
   "cell_type": "code",
   "execution_count": null,
   "id": "4ca655aa",
   "metadata": {},
   "outputs": [],
   "source": [
    "def image_render(f, x):\n",
    "\t\"\"\" Write the numpy array \"x\" into an image file \"f\" and display it \"\"\"\n",
    "\timage_write(f, x)\n",
    "\timage_display(f)\n",
    "\treturn"
   ]
  },
  {
   "cell_type": "markdown",
   "id": "49e3f1a7",
   "metadata": {},
   "source": [
    "Let's try these functions with a trivial example:"
   ]
  },
  {
   "cell_type": "code",
   "execution_count": null,
   "id": "048eb6a5",
   "metadata": {
    "lines_to_next_cell": 2
   },
   "outputs": [],
   "source": [
    "x = image_read(\"x.png\")        # load an image from current directory\n",
    "h, w = x.shape                 # extract height and width (note the order)\n",
    "x[:,:w//2] = 0                 # paint the left side in black\n",
    "image_write(\"x_cut.png\", x)    # save the modified image\n",
    "image_display(\"x.png\")         # display original image\n",
    "image_display(\"x_cut.png\")     # display modified image"
   ]
  },
  {
   "cell_type": "markdown",
   "id": "9c9e1be8",
   "metadata": {},
   "source": [
    "## Morphological operators"
   ]
  },
  {
   "cell_type": "markdown",
   "id": "eb399dbe",
   "metadata": {},
   "source": [
    "Mathematical morphology is based on applying the adjacency matrix as an\n",
    "operator acting on binary images.\n",
    "The neighborhood of each pixel, as defined by the graph, plays the role of the\n",
    "*structuring element*."
   ]
  },
  {
   "cell_type": "markdown",
   "id": "38f4cd86",
   "metadata": {},
   "source": [
    "First, we read the image data $x$ to use through the rest of this\n",
    "section, and build its adjacency matrix $A$."
   ]
  },
  {
   "cell_type": "code",
   "execution_count": null,
   "id": "cc613712",
   "metadata": {},
   "outputs": [],
   "source": [
    "x = image_read(\"x.png\")\n",
    "h, w = x.shape\n",
    "x = x.flatten()\n",
    "A = grid_adjacency(h, w)"
   ]
  },
  {
   "cell_type": "markdown",
   "id": "82826568",
   "metadata": {},
   "source": [
    "Now, let's be silly: what happens when we apply $A$ to $x$ ?"
   ]
  },
  {
   "cell_type": "code",
   "execution_count": null,
   "id": "e6619bab",
   "metadata": {},
   "outputs": [],
   "source": [
    "y = A @ x\n",
    "image_render(\"x_A.png\", y.reshape(h, w))"
   ]
  },
  {
   "cell_type": "markdown",
   "id": "c1f6542b",
   "metadata": {
    "lines_to_next_cell": 2
   },
   "source": [
    "The result is a bit difficult to interpret... the image looks much brighter\n",
    "and maybe a bit blurry."
   ]
  },
  {
   "cell_type": "markdown",
   "id": "2f892975",
   "metadata": {},
   "source": [
    "### Morphology of binary data"
   ]
  },
  {
   "cell_type": "markdown",
   "id": "d585a359",
   "metadata": {},
   "source": [
    "Now let's do some morphology"
   ]
  },
  {
   "cell_type": "code",
   "execution_count": null,
   "id": "d402357d",
   "metadata": {},
   "outputs": [],
   "source": []
  },
  {
   "cell_type": "code",
   "execution_count": null,
   "id": "346d6d8e",
   "metadata": {},
   "outputs": [],
   "source": [
    "m = 1.0 * (x > 66)          # binarized image\n",
    "E = A.copy();E.setdiag(1)   # structuring element E = A + I\n",
    "y = E**6 @ m                # apply it 6 times\n",
    "y1 = y > 0                  # extract dilation\n",
    "y2 = 1 - (y < y.max())      # extract erosion\n",
    "y3 = y > y.max()/2          # extract median filter"
   ]
  },
  {
   "cell_type": "markdown",
   "id": "8b46ed62",
   "metadata": {},
   "source": [
    "save the results"
   ]
  },
  {
   "cell_type": "code",
   "execution_count": null,
   "id": "abeb1fa2",
   "metadata": {},
   "outputs": [],
   "source": [
    "image_render(\"x_binarized.png\",    255 * m.reshape(h, w))\n",
    "image_render(\"x_6_morphogray.png\", 255 * y.reshape(h, w) / y.max())\n",
    "image_render(\"x_6_dilation.png\",   255 * y1.reshape(h, w))\n",
    "image_render(\"x_6_erosion.png\",    255 * y2.reshape(h, w))\n",
    "image_render(\"x_6_median.png\",     255 * y3.reshape(h, w))"
   ]
  },
  {
   "cell_type": "code",
   "execution_count": null,
   "id": "ee5a6a85",
   "metadata": {
    "lines_to_next_cell": 1
   },
   "outputs": [],
   "source": [
    "def grid_structuring_element(h, w):\n",
    "\t\"\"\" Build the \"cross\" structuring element matrix of a WxH image \"\"\"\n",
    "\tfrom scipy.sparse import eye\n",
    "\tA = grid_adjacency(h, w)\n",
    "\tE = A + eye(w*h)\n",
    "\treturn E"
   ]
  },
  {
   "cell_type": "markdown",
   "id": "52c7c3b1",
   "metadata": {},
   "source": [
    "### Gray-level morphology"
   ]
  },
  {
   "cell_type": "code",
   "execution_count": null,
   "id": "5652f226",
   "metadata": {
    "lines_to_next_cell": 1
   },
   "outputs": [],
   "source": [
    "def dilation(E, x):\n",
    "\tfrom scipy.sparse import diags\n",
    "\ty = (diags(x.squeeze()) @ E).max(axis=0).A.T.squeeze()\n",
    "\treturn y"
   ]
  },
  {
   "cell_type": "code",
   "execution_count": null,
   "id": "726f2857",
   "metadata": {},
   "outputs": [],
   "source": [
    "def erosion(E, x):\n",
    "\tm = 1 + x.max()\n",
    "\tt = m - x\n",
    "\ty = m - dilation(E, t)\n",
    "\treturn y"
   ]
  },
  {
   "cell_type": "code",
   "execution_count": null,
   "id": "7d474a7e",
   "metadata": {
    "lines_to_next_cell": 1
   },
   "outputs": [],
   "source": [
    "def opening(E, x):     return dilation(E, erosion(E, x))\n",
    "def closing(E, x):     return erosion(E, dilation(E, x))\n",
    "def egradient(E, x):   return x - erosion(E, x)\n",
    "def igradient(E, x):   return dilation(E, x) - x\n",
    "def cgradient(E, x):   return (igradient(E,x) + egradient(E,x))/2\n",
    "def mlaplacian(E, x):  return (igradient(E,x) - egradient(E,x))/2\n",
    "def msharpen(E, x):    return x - mlaplacian(E, x)\n",
    "def mblur(E, x):       return x + mlaplacian(E, x)\n",
    "def tophat(E, x):      return x - opening(E, x)\n",
    "def bothat(E, x):      return closing(E, x) - x"
   ]
  },
  {
   "cell_type": "code",
   "execution_count": null,
   "id": "403a3de0",
   "metadata": {},
   "outputs": [],
   "source": [
    "E = grid_structuring_element(h, w)\n",
    "#E = 1.0 * (E**3 > 0)\n",
    "image_render(\"x_dilation.png\",   dilation(E,x)           .reshape(h,w))\n",
    "image_render(\"x_erosion.png\",    erosion(E,x)            .reshape(h,w))\n",
    "image_render(\"x_opening.png\",    opening(E,x)            .reshape(h,w))\n",
    "image_render(\"x_closing.png\",    closing(E,x)            .reshape(h,w))\n",
    "image_render(\"x_egradient.png\",  2*egradient(E,x)        .reshape(h,w))\n",
    "image_render(\"x_igradient.png\",  2*igradient(E,x)        .reshape(h,w))\n",
    "image_render(\"x_cgradient.png\",  2*cgradient(E,x)        .reshape(h,w))\n",
    "image_render(\"x_mlaplacian.png\", 127-4*mlaplacian(E,x)   .reshape(h,w))\n",
    "image_render(\"x_msharpen.png\",   msharpen(E,x)           .reshape(h,w))\n",
    "image_render(\"x_mblur.png\",      mblur(E,x)              .reshape(h,w))\n",
    "image_render(\"x_tophat.png\",     6*tophat(E,x)           .reshape(h,w))\n",
    "image_render(\"x_bothat.png\",     255-6*bothat(E,x)       .reshape(h,w))"
   ]
  },
  {
   "cell_type": "code",
   "execution_count": null,
   "id": "7899e3cf",
   "metadata": {},
   "outputs": [],
   "source": []
  },
  {
   "cell_type": "markdown",
   "id": "71769114",
   "metadata": {},
   "source": [
    "## Local linear operators"
   ]
  },
  {
   "cell_type": "markdown",
   "id": "5aac1c35",
   "metadata": {},
   "source": [
    "On a graph, real-valued functions defined on the edges are called *scalar\n",
    "fields*, and real-valued functions defined on the vertices are called *vector\n",
    "fields*.  In the case of a grid graph, the interpretation of vector field is\n",
    "straightforward: the values of a vector field on the two outgoing edges\n",
    "from a vertex are the two components of the vector at that point."
   ]
  },
  {
   "cell_type": "markdown",
   "id": "c24dd7a3",
   "metadata": {},
   "source": [
    "If the graph has $n$ vertices and $m$ edges, then its\n",
    "signed incidence matrix $B$ has $n$ columns and $m$ rows.\n",
    "Thus, it can be interpreted as a linear mapping that transforms scalar to\n",
    "vector fields.  This linear map is called the *gradient*.  Similarly, the\n",
    "*divergence* is the linear map whose matrix is $-B^\\top$ and\n",
    "transforms vector to scalar fields.  Finally, the *Laplacian* is the\n",
    "divergence of the gradient $-B^\\top B$."
   ]
  },
  {
   "cell_type": "code",
   "execution_count": null,
   "id": "68d7a5a6",
   "metadata": {},
   "outputs": [],
   "source": [
    "def grid_coordinate_fields(h, w):\n",
    "\tfrom numpy import meshgrid\n",
    "\tB = grid_incidence(h, w);\n",
    "\tx, y = meshgrid(range(w), range(h))\n",
    "\tdx = B @ x.flatten()\n",
    "\tdy = B @ y.flatten()\n",
    "\treturn dx, dy"
   ]
  },
  {
   "cell_type": "code",
   "execution_count": null,
   "id": "0b132a1a",
   "metadata": {},
   "outputs": [],
   "source": [
    "x = image_read(\"x.png\")\n",
    "h,w = x.shape\n",
    "x = x.flatten()"
   ]
  },
  {
   "cell_type": "code",
   "execution_count": null,
   "id": "2ff4e438",
   "metadata": {},
   "outputs": [],
   "source": [
    "dx, dy = grid_coordinate_fields(h, w)"
   ]
  },
  {
   "cell_type": "code",
   "execution_count": null,
   "id": "f371f400",
   "metadata": {},
   "outputs": [],
   "source": [
    "dy.max()"
   ]
  },
  {
   "cell_type": "code",
   "execution_count": null,
   "id": "9b766f34",
   "metadata": {},
   "outputs": [],
   "source": []
  },
  {
   "cell_type": "code",
   "execution_count": null,
   "id": "be621dc6",
   "metadata": {},
   "outputs": [],
   "source": [
    "dx.shape"
   ]
  },
  {
   "cell_type": "code",
   "execution_count": null,
   "id": "9c7f9a8b",
   "metadata": {},
   "outputs": [],
   "source": [
    "# Let us compute the gradient of the image and look at each component of the gradient\n",
    "B = grid_incidence(h, w)\n",
    "C = abs(B)/2"
   ]
  },
  {
   "cell_type": "code",
   "execution_count": null,
   "id": "f8f7a3dc",
   "metadata": {},
   "outputs": [],
   "source": [
    "gx = C.T @ (dx * (B @ x))\n",
    "gy = C.T @ (dy * (B @ x))"
   ]
  },
  {
   "cell_type": "code",
   "execution_count": null,
   "id": "80d7273a",
   "metadata": {},
   "outputs": [],
   "source": [
    "image_render(\"x_gx.png\", 127+2*gx    .reshape(h,w))\n",
    "image_render(\"x_gy.png\", 127+2*gy    .reshape(h,w))"
   ]
  },
  {
   "cell_type": "code",
   "execution_count": null,
   "id": "69dabfb4",
   "metadata": {},
   "outputs": [],
   "source": []
  },
  {
   "cell_type": "code",
   "execution_count": null,
   "id": "41f5f455",
   "metadata": {},
   "outputs": [],
   "source": []
  },
  {
   "cell_type": "code",
   "execution_count": null,
   "id": "dd478562",
   "metadata": {},
   "outputs": [],
   "source": []
  },
  {
   "cell_type": "markdown",
   "id": "120e8459",
   "metadata": {},
   "source": [
    "## Linear differential equations"
   ]
  },
  {
   "cell_type": "markdown",
   "id": "b55d47fd",
   "metadata": {},
   "source": [
    "---\n",
    "format:\n",
    "    html:\n",
    "        self-contained: true\n",
    "        preserve-tabs: true\n",
    "jupyter:\n",
    "  jupytext:\n",
    "    formats: py:light,qmd\n",
    "    text_representation:\n",
    "      extension: .py\n",
    "      format_name: light\n",
    "  kernelspec:\n",
    "    display_name: Python 3\n",
    "    language: python\n",
    "    name: python3\n",
    "---"
   ]
  },
  {
   "cell_type": "code",
   "execution_count": null,
   "id": "d1be8180",
   "metadata": {},
   "outputs": [],
   "source": []
  },
  {
   "cell_type": "markdown",
   "id": "4fb461f6",
   "metadata": {},
   "source": [
    "vim:set tw=79 filetype=python spell spelllang=en:"
   ]
  },
  {
   "cell_type": "code",
   "execution_count": null,
   "id": "ae2cc0fc",
   "metadata": {},
   "outputs": [],
   "source": []
  }
 ],
 "metadata": {
  "jupytext": {
   "cell_metadata_filter": "-all",
   "main_language": "python",
   "notebook_metadata_filter": "-all"
  }
 },
 "nbformat": 4,
 "nbformat_minor": 5
}
